{
 "cells": [
  {
   "cell_type": "markdown",
   "metadata": {},
   "source": [
    "# 5. Other simulation tools\n",
    "\n",
    "This worksheet covers a few other packages that allow you to run different types of simulations based on the `msprime` simulation engine.\n",
    "\n",
    " - 5.1 `stdpopsim`\n",
    " - 5.2 `tspop`\n",
    " - 5.3 `tstrait`\n"
   ]
  },
  {
   "cell_type": "code",
   "execution_count": null,
   "metadata": {},
   "outputs": [],
   "source": [
    "import stdpopsim\n",
    "import tspop\n",
    "import tstrait\n",
    "import msprime"
   ]
  },
  {
   "cell_type": "markdown",
   "metadata": {},
   "source": [
    "## 5.1. `stdpopsim`\n",
    "\n",
    "As we've seen, simulating genomic history accurately can be complicated.\n",
    "However, in some situations you might just want a quick simulation of a genome that can be used to benchmark the performance of method, or to give you a rough sanity check of what certain population genetic statistics look like in certain organisms.\n",
    "\n",
    "For instance, suppose you wanted to get a rough idea of what diversity levels look like in people from different continental ancestries.\n",
    "Consider how hard this might be if we had to code it up in `msprime` (especially if we had little prior experience in human genetics):\n",
    "we'd first have to research relevant literature for information about human chromosomes (including mutation rates and recombination maps); then we'd have to find a well-supported model of demographic history for our organism (which could involve some amount of literature search), and then we'd have to code it all up, which is not an error-free process...\n",
    "\n",
    "`stdpopsim` offers a library of standardised simulations that let you pull all of these bits of information from its catalog, reducing your need to do research and the possibility of error.\n",
    "Let's briefly look at the simulation syntax:\n",
    "\n"
   ]
  },
  {
   "cell_type": "code",
   "execution_count": null,
   "metadata": {},
   "outputs": [],
   "source": [
    "# Choose a species to simulate.\n",
    "species = stdpopsim.get_species(\"HomSap\")\n",
    "\n",
    "# Choose a species-specific contig and demographic model\n",
    "contig = species.get_contig(\"chr22\")\n",
    "model = species.get_demographic_model(\"OutOfAfrica_3G09\")\n",
    "\n",
    "# Choose samples from the populations specific to your demographic model\n",
    "samples = {\"YRI\": 5, \"CHB\": 5, \"CEU\": 0}\n",
    "\n",
    "# Choose a simulation engine and use it to generate a tree sequence.\n",
    "engine = stdpopsim.get_engine(\"msprime\")\n",
    "ts = engine.simulate(model, contig, samples)\n",
    "ts"
   ]
  },
  {
   "cell_type": "markdown",
   "metadata": {},
   "source": [
    "Later on, you might want to browse the `stdpopsim` [Catalog ](https://popsim-consortium.github.io/stdpopsim-docs/stable/catalog.html)to see considerable range of species, genomic contigs and demographic models that you can simulate under.\n",
    "`stdpopsim` also has other features,\n",
    "including the facility to simulate under a DFE\n",
    " -- see the various papers published by the stdpopsim consortium for more details."
   ]
  },
  {
   "cell_type": "markdown",
   "metadata": {},
   "source": [
    "## 5.2. `tspop`\n",
    "\n",
    "Why is understanding ancestry important?\n",
    "\n",
    " - **Demography and history:** Inference about the dates and composition of evolutionary changes and historical events.\n",
    " - **Medicine:** GWAS and risk prediction studies, admixture mapping studies.\n",
    " - **Genetic pipelines:** Phasing, imputation, genotyping errors, SNP ascertainment.\n",
    " \n",
    "Suppose your genealogical ancestors can be partitioned into distinct *populations*.\n",
    "\n",
    " <img src=\"pics/worksheet4-LA.png\" width=\"500\" height=\"500\">\n",
    " \n",
    " This is typically reported as global and local ancestry:\n",
    " \n",
    " <img src=\"pics/worksheet4-LA2.png\" width=\"500\" height=\"500\">\n",
    "\n",
    "This is the kind of thing you could simulate in `msprime`, which we covered in Notebook 2.\n",
    "For instance,\n",
    "this demographic history\n",
    "\n",
    " <img src=\"pics/5-admixture-diagram.png\" width=\"500\" height=\"500\">\n",
    "\n",
    " could be simulated with the following code"
   ]
  },
  {
   "cell_type": "code",
   "execution_count": 4,
   "metadata": {},
   "outputs": [],
   "source": [
    "demography = msprime.Demography()\n",
    "demography.add_population(name=\"RED\", initial_size=500)\n",
    "demography.add_population(name=\"BLUE\", initial_size=500)\n",
    "demography.add_population(name=\"ADMIX\", initial_size=500)\n",
    "demography.add_population(name=\"ANC\", initial_size=500)\n",
    "demography.add_admixture(\n",
    "    time=100, derived=\"ADMIX\", ancestral=[\"RED\", \"BLUE\"], proportions=[0.5, 0.5]\n",
    ")\n",
    "demography.add_population_split(\n",
    "    time=1000, derived=[\"RED\", \"BLUE\"], ancestral=\"ANC\"\n",
    ")\n",
    "\n",
    "ts = msprime.sim_ancestry(\n",
    "    samples={\"RED\": 0, \"BLUE\": 0, \"ADMIX\" : 2},\n",
    "    demography=demography,\n",
    "    random_seed=1011,\n",
    "    sequence_length=1e7,\n",
    "    recombination_rate=3e-8\n",
    ")"
   ]
  },
  {
   "cell_type": "markdown",
   "metadata": {},
   "source": [
    "However, even if you setup an admixed simulation in msprime, you may not be able to get complete information about local ancestry out of it."
   ]
  },
  {
   "cell_type": "code",
   "execution_count": null,
   "metadata": {},
   "outputs": [],
   "source": [
    "colour_map = {0:\"red\", 1:\"blue\", 2: \"purple\", 3: \"gray\"}\n",
    "node_colours = {u.id: colour_map[u.population] for u in ts.nodes()}\n",
    "tree = ts.first()\n",
    "tree.draw(node_colours=node_colours)"
   ]
  },
  {
   "cell_type": "markdown",
   "metadata": {},
   "source": [
    "Note that for sample 0,\n",
    "we can't see whether it inherited this bit of DNA from the red or the blue population. \n",
    "In order to fix this, we need to use the `add_census` method, a special demographic event in `msprime`. \n",
    "Let's modify the demography and re-simulate with this added 'census event':"
   ]
  },
  {
   "cell_type": "code",
   "execution_count": 6,
   "metadata": {},
   "outputs": [],
   "source": [
    "demography = msprime.Demography()\n",
    "demography.add_population(name=\"RED\", initial_size=500)\n",
    "demography.add_population(name=\"BLUE\", initial_size=500)\n",
    "demography.add_population(name=\"ADMIX\", initial_size=500)\n",
    "demography.add_population(name=\"ANC\", initial_size=500)\n",
    "demography.add_admixture(\n",
    "    time=100, derived=\"ADMIX\", ancestral=[\"RED\", \"BLUE\"], proportions=[0.5, 0.5]\n",
    ")\n",
    "demography.add_census(time=100.01) # Census is added here!\n",
    "demography.add_population_split(\n",
    "    time=1000, derived=[\"RED\", \"BLUE\"], ancestral=\"ANC\"\n",
    ")\n",
    "\n",
    "ts = msprime.sim_ancestry(\n",
    "    samples={\"RED\": 0, \"BLUE\": 0, \"ADMIX\" : 2},\n",
    "    demography=demography,\n",
    "    random_seed=1011,\n",
    "    sequence_length=1e7,\n",
    "    recombination_rate=3e-8\n",
    ")"
   ]
  },
  {
   "cell_type": "markdown",
   "metadata": {},
   "source": [
    "Notice that this tree has red and blue nodes at every branch. This is the information added by `add_census`, and it's what's needed to calculate local ancestry. We'll do this now using the `tspop` package:"
   ]
  },
  {
   "cell_type": "code",
   "execution_count": 7,
   "metadata": {},
   "outputs": [],
   "source": [
    "pa = tspop.get_pop_ancestry(ts, census_time=100.01)"
   ]
  },
  {
   "cell_type": "markdown",
   "metadata": {},
   "source": [
    "The information about tracts of ancestry within particular populations is in the `tsop.PopAncestry.squashed_table` object:"
   ]
  },
  {
   "cell_type": "code",
   "execution_count": null,
   "metadata": {},
   "outputs": [],
   "source": [
    "st = pa.squashed_table\n",
    "print(st)"
   ]
  },
  {
   "cell_type": "markdown",
   "metadata": {},
   "source": [
    "`tspop` also contains some functions for plotting this stuff:"
   ]
  },
  {
   "cell_type": "code",
   "execution_count": null,
   "metadata": {},
   "outputs": [],
   "source": [
    "pa.plot_karyotypes(\n",
    "    sample_pair=(0,1),\n",
    "    colors=['red', 'blue'],\n",
    "    pop_labels=['RedPop', 'BluePop'],\n",
    "    title=\"Local ancestry for individual 0\",\n",
    "    length_in_Mb=True,\n",
    "    outfile=None,\n",
    ")"
   ]
  },
  {
   "cell_type": "markdown",
   "metadata": {},
   "source": [
    "We can also get global ancestry proportions using the `calculate_ancestry_fraction()` method (though, note that it works for a single node only, so to get the individual's global ancestry you'll need to average two values): "
   ]
  },
  {
   "cell_type": "code",
   "execution_count": null,
   "metadata": {},
   "outputs": [],
   "source": [
    "hap1 = pa.calculate_ancestry_fraction(population=0, sample=0)\n",
    "hap2 = pa.calculate_ancestry_fraction(population=0, sample=1)\n",
    "ind_anc = (hap1+hap2) / 2 # # Average ancestry across both chromosomes\n",
    "\n",
    "print(\"Individual 0 has {:.2f}% ancestry from population 0\".format(ind_anc*100))"
   ]
  },
  {
   "cell_type": "markdown",
   "metadata": {},
   "source": [
    "For more information about what makes tspop so fast, see the paper about the [link_ancestors algorithm](https://doi.org/10.1093/bioadv/vbad163) that underlies it. "
   ]
  },
  {
   "cell_type": "markdown",
   "metadata": {},
   "source": [
    "## 5.3 `tstrait`\n",
    "What if we want we want our simulated individuals to also have simulated phenotypic values based on (some amount of) genetic determination?\n",
    "This is what `tstrait` is for.\n",
    "\n",
    "We'll start by using `msprime` to simulate a tree sequence with mutations: \n"
   ]
  },
  {
   "cell_type": "code",
   "execution_count": null,
   "metadata": {},
   "outputs": [],
   "source": [
    "ts = msprime.sim_ancestry(\n",
    "    samples=10_000,\n",
    "    recombination_rate=1e-8,\n",
    "    sequence_length=100_000,\n",
    "    population_size=10_000,\n",
    "    random_seed=100,\n",
    ")\n",
    "ts = msprime.sim_mutations(ts, rate=1e-8, random_seed=101)"
   ]
  },
  {
   "cell_type": "markdown",
   "metadata": {},
   "source": [
    "Then, we'll use `tstrait`'s `sim_phenotype` to add some phenotype data to the individuals in this simulation,\n",
    "after first defining a statistical `model` for the distribution of genetic effects. "
   ]
  },
  {
   "cell_type": "code",
   "execution_count": 12,
   "metadata": {},
   "outputs": [],
   "source": [
    "model = tstrait.trait_model(distribution=\"normal\", mean=0, var=1)\n"
   ]
  },
  {
   "cell_type": "markdown",
   "metadata": {},
   "source": [
    "Here, we're specifying via `num_causal` that we want 100 variants to be causal for the phenotype.\n",
    "The `h2` value sets the phenotype's additive heritability:\n",
    "here, we've specified that these variants should account for 30% of the total variance in our phenotype (the remaining 70% will be due to random environmental noise.)"
   ]
  },
  {
   "cell_type": "code",
   "execution_count": 21,
   "metadata": {},
   "outputs": [],
   "source": [
    "sim_result = tstrait.sim_phenotype(\n",
    "    ts=ts, num_causal=100, model=model, h2=0.25, random_seed=128\n",
    ")"
   ]
  },
  {
   "cell_type": "markdown",
   "metadata": {},
   "source": [
    "`sim_phenotype()` has randomly chosen 100 variants from our set of simulated mutations to be causal for this trait,\n",
    "with effect sizes distributed according to the `model` we supplied.\n",
    "We can see exactly which sites have been chosen,\n",
    "and their simulated effect sizes,\n",
    "in the `trait` attribute of our output, which can be printed as a  `pandas` dataframe:"
   ]
  },
  {
   "cell_type": "code",
   "execution_count": null,
   "metadata": {},
   "outputs": [],
   "source": [
    "trait_df = sim_result.trait\n",
    "trait_df.head()"
   ]
  },
  {
   "cell_type": "markdown",
   "metadata": {},
   "source": [
    "The trait values held by each individual has been calculated from these causal variants, and can be accessed with the `phenotype` attribute:"
   ]
  },
  {
   "cell_type": "code",
   "execution_count": null,
   "metadata": {},
   "outputs": [],
   "source": [
    "phenotype_df = sim_result.phenotype\n",
    "phenotype_df.head()"
   ]
  },
  {
   "cell_type": "markdown",
   "metadata": {},
   "source": [
    "Note that the phenotypic value has been split into a genetic and environmental value which is printed alongside the phenotype value. Our environmental values are typically larger than the genetic values, which makes sense given that we simulated this trait to have a fairly low heritability of 0.3.\n",
    "\n",
    "This is just a brief introduction to `tstrait` -- for more, see the [documentation](https://tskit.dev/tstrait/docs/stable/index.html) and the associated [paper]([https://doi.org/10.1093/bioinformatics/btae334](https://doi.org/10.1093/bioinformatics/btae334))."
   ]
  },
  {
   "cell_type": "markdown",
   "metadata": {},
   "source": []
  }
 ],
 "metadata": {
  "kernelspec": {
   "display_name": "Python 3",
   "language": "python",
   "name": "python3"
  },
  "language_info": {
   "codemirror_mode": {
    "name": "ipython",
    "version": 3
   },
   "file_extension": ".py",
   "mimetype": "text/x-python",
   "name": "python",
   "nbconvert_exporter": "python",
   "pygments_lexer": "ipython3",
   "version": "3.12.7"
  }
 },
 "nbformat": 4,
 "nbformat_minor": 2
}

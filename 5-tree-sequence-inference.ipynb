{
 "cells": [
  {
   "cell_type": "code",
   "execution_count": null,
   "metadata": {},
   "outputs": [],
   "source": [
    "import msprime, tskit\n",
    "import tsinfer, tsdate\n",
    "from IPython.display import SVG\n",
    "import cyvcf2\n",
    "import json"
   ]
  },
  {
   "cell_type": "markdown",
   "metadata": {},
   "source": [
    "# 5. Tree sequence inference with tsinfer and tsdate\n",
    "\n",
    " - [5.1 An overview of tsinfer](#5.1Overview)\n",
    " - [5.2 Hands on with tsinfer](#5.2HandsOn)\n",
    " - [5.3 Inference accuracy](#5.3InferenceAccuracy)\n",
    "\n",
    "Simulating a tree sequence is relatively simple compared to *inferring* a tree sequence from existing data.\n",
    "The [tsinfer software](https://tsinfer.readthedocs.io/en/stable/) implements a heuristic algorithm which does this in a scalable manner.\n",
    "\n",
    "<a id='5.1Overview'></a>\n",
    "## 5.1 An overview of `tsinfer`\n",
    "\n",
    "`Tsinfer` (pronounced t-s-infer) is comparable in some ways to other ancestral inference software such as [ARGweaver](https://doi.org/10.1371/journal.pgen.1004342), [Relate](https://myersgroup.github.io/relate/), and [Rent+](https://doi.org/10.1093/bioinformatics/btw735). However, it differs considerably in approach and scalability.\n",
    "Note that none of these other software packages produce tree sequences as output, although is possible to convert their output to tree sequences.\n",
    "Also note that `tsinfer` produces trees with a relatively accurate topology, but unlike other ancestral inference tools, it makes no attempt at the moment to produce precise branch length estimates -- for this we need another tool like `tsdate`.\n",
    "\n",
    "An important restriction is that `tsinfer` requires phased sample sequences with known ancestral states for each variant. It also works better with full sequence data than with data from scattered target SNPs (e.g. as obtained from SNP chips)."
   ]
  },
  {
   "cell_type": "markdown",
   "metadata": {},
   "source": [
    "###  Algorithm overview\n",
    "The `tsinfer` method is split into two main parts: \n",
    "1. the reconstruction and time ordering of ancestral haplotypes and \n",
    "2. the inference of the copying process. \n",
    "\n",
    "The paper contains the following schematic overview of the method, with part 1 on the left and part 2 on the right. Note the reduced length of the blue inferred ancestor chunks back in time. \n",
    "\n",
    "<img style=\"height: 600px\" src=\"pics/tsinfer-schematic.png\">"
   ]
  },
  {
   "cell_type": "markdown",
   "metadata": {},
   "source": [
    "<a id='5.2HandsOn'></a>\n",
    "## 5.2 Hands-on with `tsinfer` and `tsdate`\n",
    "\n",
    "Let's try out `tsinfer` using some sequence data generated with `msprime`.\n",
    "Here's a small simulated sample drawn from an admixture scenario:"
   ]
  },
  {
   "cell_type": "code",
   "execution_count": null,
   "metadata": {},
   "outputs": [],
   "source": [
    "# Specify demographic history.\n",
    "demography = msprime.Demography()\n",
    "demography.add_population(name=\"SMALL\", initial_size=2000)\n",
    "demography.add_population(name=\"BIG\", initial_size=5000)\n",
    "demography.add_population(name=\"ADMIX\", initial_size=2000)\n",
    "demography.add_population(name=\"ANC\", initial_size=5000)\n",
    "demography.add_admixture(\n",
    "    time=100, derived=\"ADMIX\", ancestral=[\"SMALL\", \"BIG\"], proportions=[0.5, 0.5])\n",
    "demography.add_population_split(time=1000, derived=[\"SMALL\", \"BIG\"], ancestral=\"ANC\")\n",
    "# demography.debug()"
   ]
  },
  {
   "cell_type": "code",
   "execution_count": null,
   "metadata": {},
   "outputs": [],
   "source": [
    "# Simulate.\n",
    "seq_length = 1e6\n",
    "ts = msprime.sim_ancestry(samples={\"SMALL\": 1, \"BIG\": 1, \"ADMIX\" : 1},\n",
    "                          demography=demography,\n",
    "                          random_seed=83,\n",
    "                         sequence_length=seq_length,\n",
    "                        recombination_rate=1e-8)\n",
    "ts = msprime.sim_mutations(ts, rate=1e-8, random_seed=318)\n",
    "ts"
   ]
  },
  {
   "cell_type": "code",
   "execution_count": 5,
   "metadata": {},
   "outputs": [],
   "source": [
    "# Write to VCF.\n",
    "with open(\"worksheet5-input.vcf\", \"w\") as vcf_file:\n",
    "    ts.write_vcf(vcf_file)"
   ]
  },
  {
   "cell_type": "markdown",
   "metadata": {},
   "source": [
    "### Step 1: pre-process data\n",
    "\n",
    "`tsinfer` requires a `SampleData` object as input.\n",
    "To create this, we'll need:\n",
    "\n",
    " - phased genotype data at sites with known positions\n",
    " - information about ancestral and derived alleles at each site\n",
    " \n",
    "First, let's see how we might get this information from a VCF file:"
   ]
  },
  {
   "cell_type": "code",
   "execution_count": null,
   "metadata": {},
   "outputs": [],
   "source": [
    "a_file = open(\"worksheet5-input.vcf\")\n",
    "number_of_lines = 10\n",
    "\n",
    "for i in range(number_of_lines):\n",
    "    line = a_file.readline()\n",
    "    print(line)"
   ]
  },
  {
   "cell_type": "markdown",
   "metadata": {},
   "source": [
    "We'll need the information in the `POS`, `REF` and `ALT` fields, as well as the genotypes."
   ]
  },
  {
   "cell_type": "code",
   "execution_count": 7,
   "metadata": {},
   "outputs": [],
   "source": [
    "a_file = open(\"worksheet5-input.vcf\")\n",
    "\n",
    "lines = a_file.readlines()\n",
    "with tsinfer.SampleData(sequence_length=seq_length) as sample_data:\n",
    "    for line in lines:\n",
    "        if line[0] != \"#\":\n",
    "            l = line.split(\"\\t\")\n",
    "            pos = int(l[1])\n",
    "            ref = l[3]\n",
    "            alt = l[4]\n",
    "            gens = \"\".join(l[9:]).replace(\"|\", \"\").replace(\"\\n\", \"\")\n",
    "            gens = [int(g) for g in gens]\n",
    "            sample_data.add_site(pos, gens, [ref, alt])\n",
    "a_file.close()"
   ]
  },
  {
   "cell_type": "markdown",
   "metadata": {},
   "source": [
    "For larger VCFs, you may wish to use the [cyvcf2](https://github.com/brentp/cyvcf2) package.\n",
    "See [this](https://tsinfer.readthedocs.io/en/latest/tutorial.html#reading-a-vcf) for some example usage.\n",
    "\n",
    "You can use the `from_tree_sequence` method to create a `SampleData` object from the larger Pongo dataset:"
   ]
  },
  {
   "cell_type": "markdown",
   "metadata": {},
   "source": [
    "### Step 2: Apply tsinfer!\n",
    "\n",
    "All we need is our `SampleData` object and an estimated recombination rate:"
   ]
  },
  {
   "cell_type": "code",
   "execution_count": null,
   "metadata": {},
   "outputs": [],
   "source": [
    "tsi = tsinfer.infer(sample_data, recombination_rate=1e-7)\n",
    "tsi"
   ]
  },
  {
   "cell_type": "markdown",
   "metadata": {},
   "source": [
    "Let's have a look at some of the inferred trees. How do they compare with the real ones?"
   ]
  },
  {
   "cell_type": "code",
   "execution_count": null,
   "metadata": {
    "scrolled": false
   },
   "outputs": [],
   "source": [
    "location=50000\n",
    "SVG(tsi.at(location).draw_svg(size=(500,500)))"
   ]
  },
  {
   "cell_type": "code",
   "execution_count": null,
   "metadata": {},
   "outputs": [],
   "source": [
    "SVG(ts.at(location).draw_svg(size=(600,350)))"
   ]
  },
  {
   "cell_type": "markdown",
   "metadata": {},
   "source": [
    "Some quick observations:\n",
    " - Various inaccuracies in topologies\n",
    " - Some *polytomies:* nodes with more than two children \n",
    " \n",
    "`tsinfer` also works on larger datasets:"
   ]
  },
  {
   "cell_type": "markdown",
   "metadata": {},
   "source": [
    "To obtain estimates of node times, we will need to use `tsdate`,\n",
    "a method for efficiently inferring the ages of ancestors in a tree sequence.\n",
    "See the documentation page [here](https://tsdate.readthedocs.io/en/latest/)."
   ]
  },
  {
   "cell_type": "markdown",
   "metadata": {},
   "source": [
    "### Step 3: simplify the tree sequence\n",
    "\n",
    "First, we'll apply `simplify()`:"
   ]
  },
  {
   "cell_type": "code",
   "execution_count": null,
   "metadata": {},
   "outputs": [],
   "source": [
    "tsi = tsi.simplify()\n",
    "SVG(tsi.at(location).draw_svg())"
   ]
  },
  {
   "cell_type": "markdown",
   "metadata": {},
   "source": [
    "### Step 4: Apply `tsdate`!\n",
    "\n",
    "We supply an estimated (haploid) effective population size, and a mutation rate."
   ]
  },
  {
   "cell_type": "code",
   "execution_count": null,
   "metadata": {},
   "outputs": [],
   "source": [
    "tsid = tsdate.date(tsi, Ne=7000, mutation_rate=1e-8)\n",
    "SVG(tsid.at(location).draw_svg())"
   ]
  },
  {
   "cell_type": "code",
   "execution_count": null,
   "metadata": {},
   "outputs": [],
   "source": [
    "SVG(ts.at(location).draw_svg())"
   ]
  },
  {
   "cell_type": "markdown",
   "metadata": {},
   "source": [
    "With inferred node times and branch lengths in our tree sequence,\n",
    "we can now apply any of the branch or time-related methods in the previous worksheet to obtain inferred branch statistics, IBD segments and so on."
   ]
  },
  {
   "cell_type": "markdown",
   "metadata": {},
   "source": [
    "<a id='5.3InferenceAccuracy'></a>\n",
    "## 5.3 Inference accuracy\n",
    "\n",
    "Inferring genome-wide genealogies is a challenging task, and (as we have seen) the output from `tsinfer` should be treated with some caution.\n",
    "\n",
    "There are not many established ways to compare one tree sequence (or ARG) with another. However, thanks to phylogenetics, there *are* many ways to compare individual trees (i.e. tree distance metrics). The most discriminating that we have found is the Kendall-Colijn metric, which also has the benefit of dealing in a principled way with the *polytomies* found in `tsinfer` trees.\n",
    "\n",
    "<img style=\"height: 600px\" src=\"pics/worksheet5-distances.png\">\n",
    "\n",
    "Consider what parts of the inferred tree sequence are likely to be important in your downstream analyses.\n",
    "For instance, do branch lengths and ancestor times matter for you, or will tree topologies suffice?\n",
    "Do you need your ancestral segments to be contiguous,\n",
    "or is it okay if they are split over multiple ancestors in multiple edges?\n",
    "Questions like these should inform the types of benchmarking that matter to you.\n",
    "\n",
    "For instance, I thought `tsinfer` did a pretty good job of inferring recent IBD segment lengths:\n",
    "\n",
    "<img style=\"height: 300px\" src=\"pics/worksheet5-ibd-length.png\">\n",
    "\n",
    "But `tsdate` seemed to systematically overestimate their ages:\n",
    "\n",
    "<img style=\"height: 300px\" src=\"pics/worksheet5-ibd-time.png\">\n",
    "\n",
    "Given the variety of tools that are now available for these purposes (including the many that we have covered today), benchmarking the accuracy of these inferences is a task of high community importance if we are to rely on inferred genome-wide genealogies for future work."
   ]
  },
  {
   "cell_type": "markdown",
   "metadata": {},
   "source": [
    "# REVAMPED MATERIAL:\n",
    "\n",
    "So far, we've focused on *simulating* data with a tree sequence structure, and we've talked about the benefits of doing so. We've looked at some basic summary statistics of the tree sequences to try and interpret them, but you might be wondering,\n",
    " - what if I want to perform 'conventional' analyses on these? Like, calculating diversity, AFS-based analyses and so on? Do I simply convert my tree sequences out to VCFs and then apply all my regular tools, or can I do any of these analyses directly on the tree sequence files?\n",
    " - So far we've been doing all this on simulated datasets -- do all of these things only work on simulated data? Can I use any of these analysis techniques on my actual observed dataset?\n",
    "\n",
    "In both cases, the answer is Yes! \n",
    "\n",
    "1. The `tsinfer` and `tsdate` packages let you estimate a tree sequence for your dataset. (Note: these are *estimates* -- they won't be exactly correct. See Brandt et al for some discussion of these, and what types of information may or may not be legit for these)\n",
    "2. The `tskit` package (which we've already seen and used) has a number of utility functions that let you explore, manipulate and analyse data stored in a tree sequence format. \n",
    "\n",
    "In this notebook, we'll touch on all of these to give you a flavour of what is possible with these packages."
   ]
  },
  {
   "cell_type": "code",
   "execution_count": null,
   "metadata": {},
   "outputs": [],
   "source": [
    "import cyvcf2 # For reading VCF files into Python\n",
    "\n",
    "import tskit\n",
    "import tsinfer, tsdate\n",
    "from IPython.display import SVG\n",
    "import json"
   ]
  },
  {
   "cell_type": "markdown",
   "metadata": {},
   "source": [
    "## 5.1 Inferring a tree sequence using `tsinfer` and `tsdate`\n",
    "\n",
    "We'll be looking at a dataset of sparrow chromosome 24 (find reference) kindly shared by Mark Ravinet. There are 10 individuals represented in the samples: 5 from Norway and 5 from France.\n",
    "\n",
    "### 5.1.1 Preparing the data for tsinfer\n",
    "\n",
    "The heart is a `SampleData` object that contains information about individuals, and the genotypes held by each individual at each site. A few things\n",
    " - needs to be phased\n",
    " - needs to be bi-allelic (satisfy infinite sites)\n",
    " - Missingness is fine!\n",
    "\n",
    "These things are typically done with the `add_individual` and `add_sites` methods. To save us some boilerplate, let's import some helper functions (taken from the tsinfer website) that will make this object for us from a `cyvcf2` object. The core of these functions are calls to these above two methods, but it does a few other things as well (preserves the ploidy of the individuals, and their populations).\n",
    "\n",
    "- our data is diploid\n",
    "- Our individuals belong to two distinct populations, and we want our sample data to include that information.\n",
    "- we only want the inference to use alleles at SNVs and deletions for now (others are possible!)\n",
    "- we need phased variants"
   ]
  },
  {
   "cell_type": "code",
   "execution_count": 14,
   "metadata": {},
   "outputs": [],
   "source": [
    "def add_diploid_sites(vcf, samples):\n",
    "    \"\"\"\n",
    "    Read the sites in the vcf and add them to the samples object.\n",
    "    \"\"\"\n",
    "    # You may want to change the following line, e.g. here we allow\n",
    "    # \"*\" (a spanning deletion) to be a valid allele state\n",
    "    allele_chars = set(\"ATGCatgc*\")\n",
    "    pos = 0\n",
    "    # progressbar = tqdm(total=samples.sequence_length, desc=\"Read VCF\", unit='bp')\n",
    "    for variant in vcf:  # Loop over variants, each assumed at a unique site\n",
    "        # progressbar.update(variant.POS - pos)\n",
    "        if pos == variant.POS:\n",
    "            print(f\"Duplicate entries at position {pos}, ignoring all but the first\")\n",
    "            continue\n",
    "        else:\n",
    "            pos = variant.POS\n",
    "        if any([not phased for _, _, phased in variant.genotypes]):\n",
    "            raise ValueError(\"Unphased genotypes for variant at position\", pos)\n",
    "        alleles = [variant.REF.upper()] + [v.upper() for v in variant.ALT]\n",
    "        ancestral = variant.INFO.get(\"AA\", \".\")  # \".\" means unknown\n",
    "        # some VCFs (e.g. from 1000G) have many values in the AA field: take the 1st\n",
    "        ancestral = ancestral.split(\"|\")[0].upper()\n",
    "        if ancestral == \".\" or ancestral == \"\":\n",
    "            ancestral_allele = tskit.MISSING_DATA\n",
    "            # alternatively, you could specify `ancestral = variant.REF.upper()`\n",
    "        else:\n",
    "            ancestral_allele = alleles.index(ancestral)\n",
    "        # Check we have ATCG alleles\n",
    "        for a in alleles:\n",
    "            if len(set(a) - allele_chars) > 0:\n",
    "                print(f\"Ignoring site at pos {pos}: allele {a} not in {allele_chars}\")\n",
    "                continue\n",
    "        # Map original allele indexes to their indexes in the new alleles list.\n",
    "        genotypes = [g for row in variant.genotypes for g in row[0:2]]\n",
    "        samples.add_site(pos, genotypes, alleles, ancestral_allele=ancestral_allele)\n",
    "\n",
    "\n",
    "def chromosome_length(vcf):\n",
    "    assert len(vcf.seqlens) == 1\n",
    "    return vcf.seqlens[0]\n",
    "\n",
    "def add_populations(vcf, samples):\n",
    "    \"\"\"\n",
    "    Add tsinfer Population objects and returns a list of IDs corresponding to the VCF samples.\n",
    "    \"\"\"\n",
    "    # In this VCF, the first letter of the sample name refers to the population\n",
    "    samples_first_letter = [sample_name[0] for sample_name in vcf.samples]\n",
    "    pop_lookup = {}\n",
    "    pop_lookup[\"8\"] = samples.add_population(metadata={\"country\": \"Norway\"})\n",
    "    pop_lookup[\"F\"] = samples.add_population(metadata={\"country\": \"France\"})\n",
    "    return [pop_lookup[first_letter] for first_letter in samples_first_letter]\n",
    "\n",
    "\n",
    "def add_diploid_individuals(vcf, samples, populations):\n",
    "    for name, population in zip(vcf.samples, populations):\n",
    "        samples.add_individual(ploidy=2, metadata={\"name\": name}, population=population)"
   ]
  },
  {
   "cell_type": "markdown",
   "metadata": {},
   "source": [
    "We'll use these helper functions to read in information about our sparrow sample from the VCF file. Note the order: first, we'll add in population information, then we add in information about the individuals in those populations that we've sampled, then we add in information about the genotypes held by those individuals at each site."
   ]
  },
  {
   "cell_type": "code",
   "execution_count": null,
   "metadata": {},
   "outputs": [],
   "source": [
    "vcf_location = \"P_dom_chr24_phased.vcf.gz\"\n",
    "vcf = cyvcf2.VCF(vcf_location)\n",
    "with tsinfer.SampleData(\n",
    "    path=\"P_dom_chr24_phased.samples\", sequence_length=chromosome_length(vcf)\n",
    ") as samples:\n",
    "    populations = add_populations(vcf, samples)\n",
    "    add_diploid_individuals(vcf, samples, populations)\n",
    "    add_diploid_sites(vcf, samples)\n",
    "\n",
    "print(\n",
    "    \"Sample file created for {} samples \".format(samples.num_samples)\n",
    "    + \"({} individuals) \".format(samples.num_individuals)\n",
    "    + \"with {} variable sites.\".format(samples.num_sites),\n",
    "    flush=True,\n",
    ")\n",
    "\n",
    "# print(samples)"
   ]
  },
  {
   "cell_type": "markdown",
   "metadata": {},
   "source": [
    "### 5.1.2 Inferring a tree sequence with `tsinfer` and `tsdate`\n",
    "\n",
    "Importing the data into a tsinfer-ready format was the hardest part -- the next thing is to run tsinfer. \n",
    "\n",
    "(note to self: should mention mismatch ratio here somewhere)"
   ]
  },
  {
   "cell_type": "code",
   "execution_count": null,
   "metadata": {},
   "outputs": [],
   "source": [
    "ts_undated = tsinfer.infer(samples)\n",
    "\n",
    "ts_undated"
   ]
  },
  {
   "cell_type": "markdown",
   "metadata": {},
   "source": [
    "Yay! We now have a bona-fide tree sequence holding our data that we can inspect, analyse and manipulate in all the ways we have done previously. \n",
    "\n",
    "Do you notice anything different about this tree sequence compared with the simulated ones that we've been working with previously? \n",
    "1. As usual, there's some useful information about the fact that we generated this with tsinfer in the provenance section of the table. Note that you can click through and see all the parameters etc used.\n",
    "2. Secondly, \"Time Units: uncalibrated\". That's because tsinfer infers the topologies for these trees, but doesn't infer times for them (and in fact, takes no informarion about mutation rates or coalescence times or anything else that could help to estimate this.). For this, we'll apply `tsdate`.\n",
    "3. A more subtle one: more sites than mutations. This happens because, in the process of generating the trees, tsinfer also generates a bunch of ancestral haplotypes and that *don't* end up contributing info to the final genotypes we see.\n",
    "\n",
    "We'll deal with these second two problems one a time.\n",
    "\n",
    "First, we'll apply `simplify()` to remove some 'stray' unary nodes and sites outputted by tsinfer -- this 'pruning' step removes all elements of the inferred tree sequence other than those needed to represent the genotypes of the samples.\n",
    "After this, we'll run `tsdate` to obtain a time-calibrated version of this inferred tree sequence using an estimated mutation rate of `1e-8` per base per generation.\n",
    "\n",
    "(Can this be altered?)\n",
    "\n",
    " (Also, see [this function](https://tskit.dev/tsdate/docs/latest/python-api.html#preprocessing-tree-sequences) for some other useful pre-processing functions one can use on the tree sequence -- excluding samples from data poor regions e.g. near the telomeres, or excluding particular samples.)"
   ]
  },
  {
   "cell_type": "code",
   "execution_count": null,
   "metadata": {},
   "outputs": [],
   "source": [
    "# mutation rate is given as the probability of mutations per base per generation\n",
    "tss = ts_undated.simplify()\n",
    "ts_dated = tsdate.date(tss, mutation_rate=1e-8)\n",
    "\n",
    "ts_dated"
   ]
  },
  {
   "cell_type": "markdown",
   "metadata": {},
   "source": [
    "Note that each of these steps has added an extra row into the provenance table too.\n",
    "\n",
    "We're getting close to the point where printing individual trees might be a little overwhelming and hard to interpret. (tsbrowse), on the web, provides a number of useful functions that shows you some other visualisations of these trees that might be especially big for these larger datasets. \n",
    "\n",
    "Let's print some trees:"
   ]
  },
  {
   "cell_type": "code",
   "execution_count": null,
   "metadata": {},
   "outputs": [],
   "source": [
    "colours = {\"Norway\": \"red\", \"France\": \"blue\"}\n",
    "colours_for_node = {}\n",
    "for n in ts_dated.samples():\n",
    "    population_data = ts_dated.population(ts_dated.node(n).population)\n",
    "    colours_for_node[n] = colours[json.loads(population_data.metadata)[\"country\"]]\n",
    "\n",
    "individual_for_node = {}\n",
    "for n in ts_dated.samples():\n",
    "    individual_data = ts_dated.individual(ts_dated.node(n).individual)\n",
    "    individual_for_node[n] = json.loads(individual_data.metadata)[\"name\"]\n",
    "\n",
    "tree = ts_dated.at(4e6)\n",
    "tree.draw(\n",
    "    height=700,\n",
    "    width=1200,\n",
    "    node_labels=individual_for_node,\n",
    "    node_colours=colours_for_node\n",
    ")"
   ]
  },
  {
   "cell_type": "markdown",
   "metadata": {},
   "source": [
    "Many of these samples are clustering by population label, but not all of them are. Let's look at another tree at a different position where there even fewer sample nodes are clustering by population:"
   ]
  },
  {
   "cell_type": "code",
   "execution_count": null,
   "metadata": {},
   "outputs": [],
   "source": [
    "tree = ts_dated.at(2e6)\n",
    "tree.draw(\n",
    "    path=\"tree_at_1Mb.svg\",\n",
    "    height=700,\n",
    "    width=1200,\n",
    "    node_labels=individual_for_node,\n",
    "    node_colours=colours_for_node,\n",
    ")"
   ]
  },
  {
   "cell_type": "markdown",
   "metadata": {},
   "source": [
    "Hmm. This one is less clear.\n",
    "\n",
    "The amount we can learn from any individual tree is perhaps limited, because of the stochasticity of the trees across the genome.\n",
    "\n",
    "Can we think of some way to summarise whether the Norwegian and French sparrows exhibit population structure, and learn more about the nature of that structure?\n"
   ]
  },
  {
   "cell_type": "markdown",
   "metadata": {},
   "source": [
    "Suppose you have $n$ sequences typed at $m$ different sites...\n",
    "\n",
    "```\n",
    "   ...GTAACGCGATAAGAGATTAGCCCAAAAACACAGACATGGAAATAGCGTA...\n",
    "   ...GTAACGCGATAAGAGATTAGCCCAAAAACACAGACATGGAAATAGCGTA...\n",
    "   ...GTAACGCGATAAGATATTAGCCCAAAAACACAGACATGGAAATAGCGTA...\n",
    "   ...GTAACGCGATAAGATATTAGCCCAAAAACACAGACATGGAAATAGCGTA...\n",
    "   ...GTAACGCGATAAGATATTAGCCCAAAAACACAGACATGGAAATAGCGTA...\n",
    "   ...GTAACGCGATAAGATATTAGCCCAAAAACACAGACATGGTAATAGCGTA...\n",
    "   ...GTAACGCGATAAGATATTAGCCCAAAAACACAGACATGGTAATAGCGTA...\n",
    "```\n",
    "\n",
    "...and you want to calculate mean pairwise diversity on these samples, i.e.\n",
    "\n",
    "$$ \\pi = \\dfrac{1}{n(n-1)/2}\\sum_{i=1}^{n-1} \\sum_{j=i+1}^n k_{ij}, $$\n",
    "\n",
    "where $k_{ij}$ is the number of sites at which sequences $i$ and $j$ carry a different allele.\n",
    "The scaling of this procedure is\n",
    "\n",
    "$$ O\\left( n^2 m \\right) $$\n",
    "\n",
    "ie. quadratic in the number of samples $n$, and linear in the number of sites $m$.\n",
    "However, there is an equivalent way of performing this calculation by assigning weights to the sample nodes, and propagating these values further up the tree using a 'summary function' at each mutation.\n",
    "\n",
    " <img src=\"pics/worksheet4-node-weights.jpeg\" width=\"350\" height=\"350\">\n",
    " \n",
    " This is what `tskit` calls a *site statistic* calculation, and because the operation is of order\n",
    " \n",
    " $$ O\\left( n + \\rho m (\\log(n))^2 \\right)  << O\\left( n^2 m \\right), $$\n",
    " \n",
    "the calculation is quick to run, especially on large datasets:\n",
    "\n",
    " <img src=\"pics/worksheet4-stat-speed.jpeg\" width=\"500\" height=\"500\">\n",
    "\n",
    "This is what `tskit` calls a *site statistic* calculation, and because the operation is of order\n",
    " \n",
    " $$ O\\left( n + \\rho m (\\log(n))^2 \\right)  << O\\left( n^2 m \\right), $$\n",
    " \n",
    "the calculation is quick to run, especially on large datasets:\n",
    "\n",
    " <img src=\"pics/worksheet4-stat-speed.jpeg\" width=\"500\" height=\"500\">\n",
    "\n",
    "See the following paper for more details.\n",
    "\n",
    "Peter Ralph, Kevin Thornton, Jerome Kelleher, Efficiently Summarizing Relationships in Large Samples: A General Duality Between Statistics of Genealogies and Genomes, Genetics, Volume 215, Issue 3, 1 July 2020, Pages 779–797, https://doi.org/10.1534/genetics.120.303253"
   ]
  },
  {
   "cell_type": "markdown",
   "metadata": {},
   "source": [
    "### The basic syntax: (nucleotide diversity)\n",
    "\n",
    "`tskit` uses very similar syntax for all of its inbuilt statistics, so we'll explore the options using `diversity()` as an example."
   ]
  },
  {
   "cell_type": "code",
   "execution_count": null,
   "metadata": {},
   "outputs": [],
   "source": [
    "print(ts_dated.diversity())\n",
    "print(ts_dated.diversity(sample_sets = [ts_dated.samples(0), ts_dated.samples(1)]))"
   ]
  },
  {
   "cell_type": "code",
   "execution_count": null,
   "metadata": {},
   "outputs": [],
   "source": [
    "print(ts_dated.divergence(sample_sets=[ts_dated.samples(0), ts_dated.samples(1)]))\n",
    "print(ts_dated.divergence(sample_sets=[ts_dated.samples(0), ts_dated.samples(0)]))\n",
    "print(ts_dated.divergence(sample_sets=[ts_dated.samples(1), ts_dated.samples(1)]))"
   ]
  },
  {
   "cell_type": "code",
   "execution_count": null,
   "metadata": {},
   "outputs": [],
   "source": [
    "Fst = ts_dated.Fst(sample_sets=[ts_dated.samples(0), ts_dated.samples(1)])\n",
    "\n",
    "print(Fst)"
   ]
  },
  {
   "cell_type": "markdown",
   "metadata": {},
   "source": [
    "Remember, $F_{st}$ the the proportion of the total genetic variance that can be attributed to genetic variance within populations. (Closer to 0 --> less differentiation, closer to 1 -- more)\n",
    "\n",
    "This is pretty small, but we also have high dispersal rates (and potentially large effective population sizes.)\n",
    "\n",
    "So, yes, more difference between average pairs of individuals of different populations than between the sample populations.\n",
    "Would also guess from this that the second population is a bit bigger (has larger Ne) than the first.\n",
    "\n",
    "(Not actually doing inference with this -- but maybe get some suggested ideas.)\n",
    "\n",
    "A second question -- when, in time, did this split happen approximately?\n",
    "Would like to know something like -- for each ancestral node, how many present-day descendants are Norwegian versus French?"
   ]
  },
  {
   "cell_type": "code",
   "execution_count": null,
   "metadata": {},
   "outputs": [],
   "source": [
    "ts_dated = ts_dated.simplify()\n",
    "mean_desc = ts_dated.mean_descendants([ts_dated.samples(0), ts_dated.samples(1)])\n",
    "\n",
    "print(mean_desc)"
   ]
  },
  {
   "cell_type": "markdown",
   "metadata": {},
   "source": [
    "Each row is a node (haplotype) that is ancestral to the sample, and the columns list the number of samples from each population.\n",
    "\n",
    "Let's calculate the different between this value and 50%;"
   ]
  },
  {
   "cell_type": "code",
   "execution_count": 24,
   "metadata": {},
   "outputs": [],
   "source": [
    "# for each row of mean_desc, calculate the absolute value of the difference between the two columns divided by the sum of the two columns\n",
    "diff_in_anc = []\n",
    "\n",
    "for row in mean_desc:\n",
    "    diff_in_anc.append(abs(row[0] - row[1]) / (row[0] + row[1]))"
   ]
  },
  {
   "cell_type": "code",
   "execution_count": null,
   "metadata": {},
   "outputs": [],
   "source": [
    "diff_in_anc"
   ]
  },
  {
   "cell_type": "code",
   "execution_count": null,
   "metadata": {},
   "outputs": [],
   "source": [
    "# plot diff_in_anc\n",
    "import matplotlib.pyplot as plt\n",
    "import numpy as np\n",
    "\n",
    "# make a scatterplot of diff_in_anc (on y axis) and nodes.tables.time (on x axis)\n",
    "plt.scatter(np.log10(ts_dated.tables.nodes.time), diff_in_anc, )"
   ]
  },
  {
   "cell_type": "markdown",
   "metadata": {},
   "source": [
    "Let's do a smaller, neater  version of this first.\n",
    "If we pull out all of the nodes that have 10 descendants, when does the standard deviation of the number of blue descedants (approximately) match what you'd expect from a binomial distribution?\n",
    "\n",
    "First, let's extract all of the nodes with 10 leaves in the tree. We can do this with the `mean_desc` object we created before"
   ]
  },
  {
   "cell_type": "code",
   "execution_count": null,
   "metadata": {},
   "outputs": [],
   "source": [
    "num_descendants = mean_desc.sum(axis=1).astype(int)\n",
    "print(num_descendants.shape)\n",
    "\n",
    "print(num_descendants)\n",
    "ids_10 = np.where(num_descendants == 10)\n",
    "\n",
    "print(ids_10)\n",
    "\n",
    "total_ancestral_nodes = 0\n",
    "for n in range(0, 21):\n",
    "\n",
    "    ids = np.where(num_descendants == n)\n",
    "    total_ancestral_nodes += len(ids[0])\n",
    "\n",
    "print(total_ancestral_nodes)\n",
    "print()\n"
   ]
  },
  {
   "cell_type": "markdown",
   "metadata": {},
   "source": [
    "Next, we want to extract the values of `mean_desc` and `time` for each of these\n",
    "\n",
    "wow, this is confusing because everything is not an integer. "
   ]
  },
  {
   "cell_type": "code",
   "execution_count": null,
   "metadata": {},
   "outputs": [],
   "source": [
    "focal_nodes = np.where(num_descendants == 4)[0]\n",
    "focal_mean_desc = mean_desc[focal_nodes]\n",
    "focal_times = ts_dated.tables.nodes.time[focal_nodes]\n",
    "\n",
    "print(focal_mean_desc)"
   ]
  },
  {
   "cell_type": "code",
   "execution_count": null,
   "metadata": {},
   "outputs": [],
   "source": [
    "# plot focal_mean_desc (on y axis) and focal_times (on x axis)\n",
    "plt.scatter(focal_times[:-1], focal_mean_desc[:-1, 0], label=\"Population 0\")"
   ]
  },
  {
   "cell_type": "code",
   "execution_count": null,
   "metadata": {},
   "outputs": [],
   "source": []
  }
 ],
 "metadata": {
  "kernelspec": {
   "display_name": "ts2025",
   "language": "python",
   "name": "python3"
  },
  "language_info": {
   "codemirror_mode": {
    "name": "ipython",
    "version": 3
   },
   "file_extension": ".py",
   "mimetype": "text/x-python",
   "name": "python",
   "nbconvert_exporter": "python",
   "pygments_lexer": "ipython3",
   "version": "3.12.7"
  }
 },
 "nbformat": 4,
 "nbformat_minor": 2
}
